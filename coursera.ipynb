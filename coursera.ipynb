{
 "cells": [
  {
   "cell_type": "markdown",
   "id": "eaa37ed3",
   "metadata": {},
   "source": [
    "2) \n",
    "Data Science "
   ]
  },
  {
   "cell_type": "markdown",
   "id": "f9ec86cf",
   "metadata": {},
   "source": [
    "3) In this notebook, Data Science Tools and Ecosystem are smmarized"
   ]
  },
  {
   "cell_type": "markdown",
   "id": "38a9799f",
   "metadata": {},
   "source": [
    "4) \n",
    "Some of the popular languages that Data Scientists use are:\n",
    "1 Python\n",
    "2 R\n",
    "3 SQL\n",
    "4 Scala\n",
    "5 Java\n",
    "5 C++\n",
    "6 Julia\n",
    "8 JavaScript\n",
    "9 Php\n",
    "10 Go\n",
    "10 Ruby\n",
    "11 Ruby\n",
    "12 Visual Basic"
   ]
  },
  {
   "cell_type": "markdown",
   "id": "19b42bee",
   "metadata": {},
   "source": [
    "5) \n",
    "1 Pandas\n",
    "2 NumPy.\n",
    "3 Matplotlib.\n",
    "4 Seaborn.\n",
    "5 SciKit-Learn.\n",
    "6 Keras.\n",
    "7 TensorFlow.\n",
    "8 PyTorch.\n",
    "9 Apache Spark\n",
    "10 Vegas\n",
    "11 Bid DL\n",
    "12 Ggplot 2"
   ]
  },
  {
   "cell_type": "markdown",
   "id": "bb2ad523",
   "metadata": {},
   "source": [
    "6) \n",
    "|Data Science Tools|\n",
    "|------------------|\n",
    "|Anaconda          |\n",
    "|Jupyter Notebooks |\n",
    "|R studio          |\n",
    "|Spyder            |\n",
    "|Zeppelin          |"
   ]
  },
  {
   "cell_type": "markdown",
   "id": "5bd32b88",
   "metadata": {},
   "source": [
    "7) 2(5 * 12)/14"
   ]
  },
  {
   "cell_type": "code",
   "execution_count": null,
   "id": "1af9af4e",
   "metadata": {},
   "outputs": [],
   "source": [
    "#8\n",
    "a = int(input(\"Ingrese numero 1\"))\n",
    "b = int(input(\"Ingrese numero 2\"))\n",
    "print(\"Multiplicación:\", a * b)\n",
    "print(\"Suma:\", a + b)"
   ]
  },
  {
   "cell_type": "code",
   "execution_count": null,
   "id": "4b166275",
   "metadata": {},
   "outputs": [],
   "source": [
    "#9\n",
    "minutos=int(input(\"Ingrese el numero de minutos\"))\n",
    "print(\"El numero de hora es: \",minutos/60)"
   ]
  },
  {
   "cell_type": "code",
   "execution_count": null,
   "id": "2a3baf4f",
   "metadata": {},
   "outputs": [],
   "source": [
    "#10\n",
    "objetivos = [\n",
    "    \"Presentar un resumen de lenguajes clave en ciencia de datos.\",\n",
    "    \"Enumerar bibliotecas fundamentales para el análisis y modelado de datos.\",\n",
    "    \"Mostrar herramientas comunes utilizadas por los científicos de datos.\",\n",
    "    \"Demostrar la ejecución de operaciones aritméticas básicas.\",\n",
    "    \"Realizar una conversión de unidades simple (minutos a horas).\",\n",
    "    \"Familiarizarse con la estructura y las capacidades de Jupyter Notebook.\"\n",
    "]\n",
    "\n",
    "print(\"Los objetivos de este cuaderno son:\")\n",
    "for i, objetivo in enumerate(objetivos):\n",
    "    print(f\"{i+1}. {objetivo}\")"
   ]
  },
  {
   "cell_type": "markdown",
   "id": "7ba41932",
   "metadata": {},
   "source": [
    "11) AUTOR : SAMIER MENDOZA"
   ]
  }
 ],
 "metadata": {
  "kernelspec": {
   "display_name": "Python 3",
   "language": "python",
   "name": "python3"
  },
  "language_info": {
   "codemirror_mode": {
    "name": "ipython",
    "version": 3
   },
   "file_extension": ".py",
   "mimetype": "text/x-python",
   "name": "python",
   "nbconvert_exporter": "python",
   "pygments_lexer": "ipython3",
   "version": "3.13.3"
  }
 },
 "nbformat": 4,
 "nbformat_minor": 5
}
